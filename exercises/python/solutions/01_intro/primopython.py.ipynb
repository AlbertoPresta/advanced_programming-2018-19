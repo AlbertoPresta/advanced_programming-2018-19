{
 "cells": [
  {
   "cell_type": "code",
   "execution_count": 26,
   "metadata": {},
   "outputs": [
    {
     "name": "stdout",
     "output_type": "stream",
     "text": [
      "True\n"
     ]
    }
   ],
   "source": [
    "def is_palindrome(string_var):\n",
    "    '''\n",
    "    returns True if string_var is palindrome, False otherwise\n",
    "    '''\n",
    "    l = list(string_var)\n",
    "    m = len(l) \n",
    "    for i in range(m//2):\n",
    "         if l[i]!=l[m-i-1]:\n",
    "            return False\n",
    "    return True\n",
    "\n",
    "s = is_palindrome(\"ABBBBBBBBBBBBBBA\")\n",
    "print(s)"
   ]
  },
  {
   "cell_type": "code",
   "execution_count": 28,
   "metadata": {},
   "outputs": [
    {
     "name": "stdout",
     "output_type": "stream",
     "text": [
      "{'a': 3, 'n': 2, 'm': 1, 'o': 1, 'b': 1, 'e': 2, 'r': 1}\n"
     ]
    }
   ],
   "source": [
    "def histogram_letter(string_var):\n",
    "    '''\n",
    "    count how many times a letter is present in the string_var\n",
    "    and returns a dict\n",
    "\n",
    "    '''\n",
    "    l = list(string_var)\n",
    "    dic = {}\n",
    "    for i in l:\n",
    "        if i in dic:\n",
    "            dic[i]=dic[i] +1\n",
    "        else:\n",
    "            dic[i]=1\n",
    "    return dic\n",
    "\n",
    "##modo per aggiungere elemento in dictionary:: nome_dic[chiave] = valore_iniziale\n",
    "\n"
   ]
  },
  {
   "cell_type": "code",
   "execution_count": 41,
   "metadata": {},
   "outputs": [
    {
     "name": "stdout",
     "output_type": "stream",
     "text": [
      "('o', 5)\n",
      "<class 'tuple'>\n"
     ]
    }
   ],
   "source": [
    "from collections import OrderedDict\n",
    "\n",
    "def get_most_frequent(list_var):\n",
    "    '''\n",
    "    returns a tuple with the most frequent object in the list with the \n",
    "    corresponing number\n",
    "    '''\n",
    "    l = list(list_var)\n",
    "    dic = histogram_letter(l) ##ho il dizionario--> basta riordinare il dic \n",
    "    sred = sorted(dic.items(), key=lambda value: value[1])[-1]  ##ritorna una tuple\n",
    "    return sred\n",
    "\n",
    "\n",
    "s = \"ciaocomevaioioio \"\n",
    "c = get_most_frequent(s)\n",
    "print(c)\n",
    "print(type(c))\n",
    "   "
   ]
  },
  {
   "cell_type": "code",
   "execution_count": 51,
   "metadata": {},
   "outputs": [
    {
     "name": "stdout",
     "output_type": "stream",
     "text": [
      "<class 'dict'>\n",
      "{'a': 2, 'r': 2, 't': 2, 'o': 2}\n"
     ]
    }
   ],
   "source": [
    "from collections import Counter\n",
    "from functools import reduce\n",
    "\n",
    "def which_duplicates(list_var):\n",
    "    '''\n",
    "    return a dict with containing the repeted object and the number of repetitions\n",
    "    '''\n",
    "    l=list(list_var)\n",
    "    dic = {k:v for k, v in Counter(l).items() if v > 1}\n",
    "    return dic\n",
    "\n",
    "\n",
    "s = \"albertoarto \"\n",
    "c = which_duplicates(s)\n",
    "print(type(c))\n",
    "print(c)      \n",
    "\n",
    "\n"
   ]
  },
  {
   "cell_type": "code",
   "execution_count": 52,
   "metadata": {},
   "outputs": [],
   "source": [
    "def compute_factorial(numero):\n",
    "    if (numero == 0 or numero==1):\n",
    "        return 1\n",
    "    return numero*compute_factorial(numero-1)\n",
    "        "
   ]
  },
  {
   "cell_type": "code",
   "execution_count": 53,
   "metadata": {},
   "outputs": [
    {
     "data": {
      "text/plain": [
       "120"
      ]
     },
     "execution_count": 53,
     "metadata": {},
     "output_type": "execute_result"
    }
   ],
   "source": [
    "compute_factorial(5)"
   ]
  },
  {
   "cell_type": "code",
   "execution_count": 54,
   "metadata": {},
   "outputs": [
    {
     "data": {
      "text/plain": [
       "False"
      ]
     },
     "execution_count": 54,
     "metadata": {},
     "output_type": "execute_result"
    }
   ],
   "source": [
    "#esercizio 6\n",
    "# returns True if int_val is prime, False otherwise\n",
    "def is_prime(numero):\n",
    "    if (numero==1):\n",
    "        return False\n",
    "    if (numero== 2):\n",
    "        return True\n",
    "    for i in  range(2,numero//2):\n",
    "        if (numero%i==0):\n",
    "            return False\n",
    "            break\n",
    "    return True    \n",
    "        \n",
    "    \n",
    "is_prime(45)\n",
    "    "
   ]
  },
  {
   "cell_type": "code",
   "execution_count": null,
   "metadata": {},
   "outputs": [],
   "source": []
  }
 ],
 "metadata": {
  "kernelspec": {
   "display_name": "Python 3",
   "language": "python",
   "name": "python3"
  },
  "language_info": {
   "codemirror_mode": {
    "name": "ipython",
    "version": 3
   },
   "file_extension": ".py",
   "mimetype": "text/x-python",
   "name": "python",
   "nbconvert_exporter": "python",
   "pygments_lexer": "ipython3",
   "version": "3.7.0"
  }
 },
 "nbformat": 4,
 "nbformat_minor": 2
}
