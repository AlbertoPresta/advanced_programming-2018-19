{
 "cells": [
  {
   "cell_type": "code",
   "execution_count": 15,
   "metadata": {},
   "outputs": [
    {
     "name": "stdout",
     "output_type": "stream",
     "text": [
      "15\n",
      "14\n",
      "13\n",
      "12\n",
      "11\n",
      "10\n",
      "9\n",
      "8\n",
      "7\n",
      "6\n",
      "5\n"
     ]
    }
   ],
   "source": [
    "                                        #Exercise 1\n",
    "                                        #implement `myrange` that acts like `range`\n",
    "                                        #define a function `myrange`\n",
    "                                        #efine a class `MyRange`\n",
    "\n",
    "#classe MyRange\n",
    "\n",
    "class MyRange():\n",
    "    def __init__(self,partenza,fine,step=1):\n",
    "        self.fine = fine\n",
    "        self.step = step\n",
    "        self.index= partenza - step\n",
    "        if (self.step == 0):\n",
    "            raise TypeError(\"lo step non può essere nullo\")\n",
    "        if (self.index > self.fine and self.step > 0):\n",
    "            raise TypeError(\"lo step in questa situazione non può essere negativo\")\n",
    "        \n",
    "            \n",
    "            \n",
    "        \n",
    "    def __iter__(self):\n",
    "        return self\n",
    "    def __next__(self):\n",
    "        if self.step > 0:\n",
    "            if self.index >= self.fine:\n",
    "                raise StopIteration\n",
    "            self.index = self.index + self.step\n",
    "            if self.index >= self.fine:\n",
    "                raise StopIteration    \n",
    "            return self.index\n",
    "        else:\n",
    "            if self.index <= self.fine:\n",
    "                raise StopIteration\n",
    "            self.index = self.index + self.step\n",
    "            if self.index <= self.fine:\n",
    "                raise StopIteration    \n",
    "            return self.index\n",
    "    \n",
    "\n",
    "\n",
    "    \n",
    "\n",
    "#funzione che utilizza classe MyRange\n",
    "def myrange(*arg):\n",
    "    length = len(arg)\n",
    "    if length not in [1,2,3]:  #se il numero di argomenti passati in input non è giusto\n",
    "        raise TypeError(str(length)+ \": numero di argomenti non adeguato\")\n",
    "    #ora casi che dipensono dal numero di variabili\n",
    "    if length == 1:  #c'è solo la fine\n",
    "        return MyRange(0,arg[0])\n",
    "    elif length == 2:\n",
    "        return MyRange(arg[0],arg[1])\n",
    "    elif length == 3:\n",
    "        return MyRange(arg[0],arg[1],arg[2])\n",
    "    \n",
    "    \n",
    "    \n",
    "    \n",
    "lista = myrange(15,4,-1)\n",
    "for i in lista:\n",
    "    print(i)"
   ]
  },
  {
   "cell_type": "code",
   "execution_count": 19,
   "metadata": {},
   "outputs": [
    {
     "name": "stdout",
     "output_type": "stream",
     "text": [
      "inizio del calcolo\n",
      "0.18973127100002785\n",
      "fine del calcolo del tempo\n"
     ]
    }
   ],
   "source": [
    "####################################### EXERCISE 2 ########################################################\n",
    "                    #Implement a Timer that exploiting `__enter__` and `__exit__` is able to measure\n",
    "                                    #the time spent in a portion of python code.\n",
    "\n",
    "import time\n",
    "\n",
    "class Timer:\n",
    "    def __enter__(self):\n",
    "        print(\"inizio del calcolo\")\n",
    "        import time \n",
    "        self.start = time.monotonic()\n",
    "    \n",
    "    def __exit__(self,*args):     \n",
    "        import time\n",
    "        self.end = time.monotonic()\n",
    "        tempo_passato = self.end - self.start\n",
    "        print(tempo_passato)\n",
    "        print(\"fine del calcolo del tempo\")\n",
    "        \n",
    "with Timer() as t:\n",
    "\n",
    "    for i in range(1,500000):\n",
    "        i**2\n",
    "        \n",
    " "
   ]
  },
  {
   "cell_type": "code",
   "execution_count": null,
   "metadata": {},
   "outputs": [],
   "source": []
  }
 ],
 "metadata": {
  "kernelspec": {
   "display_name": "Python 3",
   "language": "python",
   "name": "python3"
  },
  "language_info": {
   "codemirror_mode": {
    "name": "ipython",
    "version": 3
   },
   "file_extension": ".py",
   "mimetype": "text/x-python",
   "name": "python",
   "nbconvert_exporter": "python",
   "pygments_lexer": "ipython3",
   "version": "3.7.0"
  }
 },
 "nbformat": 4,
 "nbformat_minor": 2
}
