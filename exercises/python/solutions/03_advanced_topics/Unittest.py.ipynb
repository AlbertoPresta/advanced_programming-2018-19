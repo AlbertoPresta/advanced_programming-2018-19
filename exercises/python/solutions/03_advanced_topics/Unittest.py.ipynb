{
 "cells": [
  {
   "cell_type": "code",
   "execution_count": 1,
   "metadata": {},
   "outputs": [
    {
     "name": "stderr",
     "output_type": "stream",
     "text": [
      "E\n",
      "======================================================================\n",
      "ERROR: /Users/admin/Library/Jupyter/runtime/kernel-49226f5e-6267-4449-a6bd-d9d2a058d058 (unittest.loader._FailedTest)\n",
      "----------------------------------------------------------------------\n",
      "AttributeError: module '__main__' has no attribute '/Users/admin/Library/Jupyter/runtime/kernel-49226f5e-6267-4449-a6bd-d9d2a058d058'\n",
      "\n",
      "----------------------------------------------------------------------\n",
      "Ran 1 test in 0.001s\n",
      "\n",
      "FAILED (errors=1)\n"
     ]
    },
    {
     "ename": "SystemExit",
     "evalue": "True",
     "output_type": "error",
     "traceback": [
      "An exception has occurred, use %tb to see the full traceback.\n",
      "\u001b[0;31mSystemExit\u001b[0m\u001b[0;31m:\u001b[0m True\n"
     ]
    },
    {
     "name": "stderr",
     "output_type": "stream",
     "text": [
      "/Users/admin/anaconda3/lib/python3.7/site-packages/IPython/core/interactiveshell.py:2969: UserWarning: To exit: use 'exit', 'quit', or Ctrl-D.\n",
      "  warn(\"To exit: use 'exit', 'quit', or Ctrl-D.\", stacklevel=1)\n"
     ]
    }
   ],
   "source": [
    "__all__ = ['MyRange','myrange']\n",
    "\n",
    "class MyRange():\n",
    "    def __init__(self,partenza,fine,step=1):\n",
    "        self.fine = fine\n",
    "        self.step = step\n",
    "        self.index= partenza - step\n",
    "        if (self.step == 0):\n",
    "            raise TypeError(\"lo step non può essere nullo\")\n",
    "        if (self.index > self.fine and self.step > 0):\n",
    "            raise TypeError(\"lo step in questa situazione non può essere negativo\")\n",
    "        \n",
    "            \n",
    "            \n",
    "        \n",
    "    def __iter__(self):\n",
    "        return self\n",
    "    def __next__(self):\n",
    "        if self.step > 0:\n",
    "            if self.index >= self.fine:\n",
    "                raise StopIteration\n",
    "            self.index = self.index + self.step\n",
    "            if self.index >= self.fine:\n",
    "                raise StopIteration    \n",
    "            return self.index\n",
    "        else:\n",
    "            if self.index <= self.fine:\n",
    "                raise StopIteration\n",
    "            self.index = self.index + self.step\n",
    "            if self.index <= self.fine:\n",
    "                raise StopIteration    \n",
    "            return self.index\n",
    "    \n",
    "\n",
    "\n",
    "    \n",
    "\n",
    "#funzione che utilizza classe MyRange\n",
    "def myrange(*arg):\n",
    "    length = len(arg)\n",
    "    if length not in [1,2,3]:  #se il numero di argomenti passati in input non è giusto\n",
    "        raise TypeError(str(length)+ \": numero di argomenti non adeguato\")\n",
    "    #ora casi che dipensono dal numero di variabili\n",
    "    if length == 1:  #c'è solo la fine\n",
    "        return MyRange(0,arg[0])\n",
    "    elif length == 2:\n",
    "        return MyRange(arg[0],arg[1])\n",
    "    elif length == 3:\n",
    "        return MyRange(arg[0],arg[1],arg[2])\n",
    "    \n",
    "\n",
    "import unittest\n",
    "class TestMyModule(unittest.TestCase):\n",
    "      def test(self):\n",
    "        self.assertEqual([i for i in myrange(1,20,2)], [i for i in range(1,20,2)])\n",
    "\n",
    "        \n",
    "if __name__ == '__main__':\n",
    "    unittest.main()"
   ]
  },
  {
   "cell_type": "code",
   "execution_count": 26,
   "metadata": {},
   "outputs": [
    {
     "name": "stdout",
     "output_type": "stream",
     "text": [
      "1\n",
      "3\n",
      "5\n",
      "7\n",
      "9\n",
      "11\n",
      "13\n",
      "15\n",
      "17\n",
      "19\n",
      "1\n",
      "3\n",
      "5\n",
      "7\n",
      "9\n",
      "11\n",
      "13\n",
      "15\n",
      "17\n",
      "19\n"
     ]
    }
   ],
   "source": [
    "for i in myrange(1,20,2):\n",
    "    print(i)\n",
    "    \n",
    "for i in range(1,20,2):\n",
    "    print(i)"
   ]
  },
  {
   "cell_type": "code",
   "execution_count": null,
   "metadata": {},
   "outputs": [],
   "source": []
  }
 ],
 "metadata": {
  "kernelspec": {
   "display_name": "Python 3",
   "language": "python",
   "name": "python3"
  },
  "language_info": {
   "codemirror_mode": {
    "name": "ipython",
    "version": 3
   },
   "file_extension": ".py",
   "mimetype": "text/x-python",
   "name": "python",
   "nbconvert_exporter": "python",
   "pygments_lexer": "ipython3",
   "version": "3.7.0"
  }
 },
 "nbformat": 4,
 "nbformat_minor": 2
}
